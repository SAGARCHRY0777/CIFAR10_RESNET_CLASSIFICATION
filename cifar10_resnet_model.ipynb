{
  "nbformat": 4,
  "nbformat_minor": 0,
  "metadata": {
    "colab": {
      "provenance": [],
      "gpuType": "T4"
    },
    "kernelspec": {
      "name": "python3",
      "display_name": "Python 3"
    },
    "language_info": {
      "name": "python"
    },
    "accelerator": "GPU"
  },
  "cells": [
    {
      "cell_type": "code",
      "source": [
        "pip install keras"
      ],
      "metadata": {
        "colab": {
          "base_uri": "https://localhost:8080/"
        },
        "id": "0bS2Xy-qzyKp",
        "outputId": "ae3c3fb8-77e2-4a89-e48b-ff69bd4924a2"
      },
      "execution_count": 1,
      "outputs": [
        {
          "output_type": "stream",
          "name": "stdout",
          "text": [
            "Requirement already satisfied: keras in /usr/local/lib/python3.10/dist-packages (2.15.0)\n"
          ]
        }
      ]
    },
    {
      "cell_type": "code",
      "execution_count": 2,
      "metadata": {
        "id": "d-ZfPtkZzYtV"
      },
      "outputs": [],
      "source": [
        "import numpy as np\n",
        "import tensorflow as tf\n",
        "from tensorflow.keras import layers, models, datasets\n"
      ]
    },
    {
      "cell_type": "code",
      "source": [],
      "metadata": {
        "id": "O4AIvA6Lz1uL"
      },
      "execution_count": 2,
      "outputs": []
    },
    {
      "cell_type": "markdown",
      "source": [],
      "metadata": {
        "id": "ey_S3DMJzwQv"
      }
    },
    {
      "cell_type": "code",
      "source": [
        "\n",
        "# Load and preprocess CIFAR-10 dataset\n",
        "(x_train, y_train), (x_test, y_test) = datasets.cifar10.load_data()\n",
        "x_train, x_test = x_train / 255.0, x_test / 255.0  # Normalize pixel values to [0, 1]\n"
      ],
      "metadata": {
        "colab": {
          "base_uri": "https://localhost:8080/"
        },
        "id": "ZoB9HXpqzeca",
        "outputId": "c5e29f9d-56cd-4afa-8501-da8ab6584389"
      },
      "execution_count": 3,
      "outputs": [
        {
          "output_type": "stream",
          "name": "stdout",
          "text": [
            "Downloading data from https://www.cs.toronto.edu/~kriz/cifar-10-python.tar.gz\n",
            "170498071/170498071 [==============================] - 3s 0us/step\n"
          ]
        }
      ]
    },
    {
      "cell_type": "code",
      "source": [
        "\n",
        "# Define ResNet architecture\n",
        "def build_resnet(input_shape, num_classes):\n",
        "    inputs = layers.Input(shape=input_shape)\n",
        "\n",
        "    # Initial convolutional layer\n",
        "    x = layers.Conv2D(64, 7, strides=2, padding='same')(inputs)\n",
        "    x = layers.BatchNormalization()(x)\n",
        "    x = layers.Activation('relu')(x)\n",
        "    x = layers.MaxPooling2D(pool_size=3, strides=2, padding='same')(x)\n",
        "\n",
        "    # Residual blocks\n",
        "    num_blocks_list = [3, 4, 6, 3]\n",
        "    filters_list = [64, 128, 256, 512]\n",
        "\n",
        "    for stage, num_blocks, filters in zip(range(4), num_blocks_list, filters_list):\n",
        "        strides = 1 if stage == 0 else 2  # Downsample the feature maps in the first block of each stage\n",
        "        x = build_resnet_stage(x, filters, num_blocks, strides)\n",
        "\n",
        "    # Final layers\n",
        "    x = layers.GlobalAveragePooling2D()(x)\n",
        "    outputs = layers.Dense(num_classes, activation='softmax')(x)\n",
        "\n",
        "    model = models.Model(inputs, outputs)\n",
        "    return model\n",
        "\n",
        "def build_resnet_stage(x, filters, num_blocks, strides):\n",
        "    for i in range(num_blocks):\n",
        "        # First block in each stage might need to downsample spatially\n",
        "        if i == 0:\n",
        "            x = residual_block(x, filters, strides=strides)\n",
        "        else:\n",
        "            x = residual_block(x, filters, strides=1)\n",
        "    return x\n",
        "\n",
        "def residual_block(x, filters, kernel_size=3, strides=1):\n",
        "    shortcut = x\n",
        "    x = layers.Conv2D(filters, kernel_size, strides=strides, padding='same')(x)\n",
        "    x = layers.BatchNormalization()(x)\n",
        "    x = layers.Activation('relu')(x)\n",
        "    x = layers.Conv2D(filters, kernel_size, padding='same')(x)\n",
        "    x = layers.BatchNormalization()(x)\n",
        "\n",
        "    # If the input shape is not the same as the output shape, adjust the shortcut\n",
        "    if strides != 1 or shortcut.shape[-1] != filters:\n",
        "        shortcut = layers.Conv2D(filters, 1, strides=strides, padding='same')(shortcut)\n",
        "    x = layers.Add()([shortcut, x])\n",
        "    x = layers.Activation('relu')(x)\n",
        "    return x\n"
      ],
      "metadata": {
        "id": "34GCj-poznzc"
      },
      "execution_count": 4,
      "outputs": []
    },
    {
      "cell_type": "code",
      "source": [
        "\n",
        "# Build and compile the model\n",
        "input_shape = x_train[0].shape\n",
        "num_classes = len(np.unique(y_train))\n",
        "model = build_resnet(input_shape, num_classes)\n",
        "model.compile(optimizer='adam', loss='sparse_categorical_crossentropy', metrics=['accuracy'])\n"
      ],
      "metadata": {
        "id": "oNvQVr9jzn2C"
      },
      "execution_count": 5,
      "outputs": []
    },
    {
      "cell_type": "code",
      "source": [
        "\n",
        "# Train the model\n",
        "model.fit(x_train, y_train, epochs=10, batch_size=64, validation_data=(x_test, y_test))\n"
      ],
      "metadata": {
        "colab": {
          "base_uri": "https://localhost:8080/"
        },
        "id": "psXGrvInzn4c",
        "outputId": "841ece84-1fda-42b0-9226-dbb98f7ab5fd"
      },
      "execution_count": 6,
      "outputs": [
        {
          "output_type": "stream",
          "name": "stdout",
          "text": [
            "Epoch 1/10\n",
            "782/782 [==============================] - 62s 44ms/step - loss: 1.5274 - accuracy: 0.4630 - val_loss: 1.4571 - val_accuracy: 0.4995\n",
            "Epoch 2/10\n",
            "782/782 [==============================] - 33s 43ms/step - loss: 1.0705 - accuracy: 0.6241 - val_loss: 1.7360 - val_accuracy: 0.4708\n",
            "Epoch 3/10\n",
            "782/782 [==============================] - 33s 42ms/step - loss: 0.9047 - accuracy: 0.6855 - val_loss: 1.0574 - val_accuracy: 0.6377\n",
            "Epoch 4/10\n",
            "782/782 [==============================] - 32s 41ms/step - loss: 0.8105 - accuracy: 0.7186 - val_loss: 0.9541 - val_accuracy: 0.6759\n",
            "Epoch 5/10\n",
            "782/782 [==============================] - 33s 43ms/step - loss: 0.7694 - accuracy: 0.7355 - val_loss: 1.5087 - val_accuracy: 0.5447\n",
            "Epoch 6/10\n",
            "782/782 [==============================] - 32s 41ms/step - loss: 0.6263 - accuracy: 0.7833 - val_loss: 0.9913 - val_accuracy: 0.6726\n",
            "Epoch 7/10\n",
            "782/782 [==============================] - 32s 41ms/step - loss: 0.5660 - accuracy: 0.8063 - val_loss: 1.2354 - val_accuracy: 0.6329\n",
            "Epoch 8/10\n",
            "782/782 [==============================] - 33s 43ms/step - loss: 0.5511 - accuracy: 0.8114 - val_loss: 0.8392 - val_accuracy: 0.7204\n",
            "Epoch 9/10\n",
            "782/782 [==============================] - 32s 41ms/step - loss: 0.4188 - accuracy: 0.8552 - val_loss: 0.8182 - val_accuracy: 0.7300\n",
            "Epoch 10/10\n",
            "782/782 [==============================] - 32s 41ms/step - loss: 0.3498 - accuracy: 0.8790 - val_loss: 1.0281 - val_accuracy: 0.7145\n"
          ]
        },
        {
          "output_type": "execute_result",
          "data": {
            "text/plain": [
              "<keras.src.callbacks.History at 0x7d24330f12d0>"
            ]
          },
          "metadata": {},
          "execution_count": 6
        }
      ]
    },
    {
      "cell_type": "code",
      "source": [
        "\n",
        "# Make predictions\n",
        "predictions = model.predict(x_test)\n",
        "predicted_classes = np.argmax(predictions, axis=1)\n"
      ],
      "metadata": {
        "colab": {
          "base_uri": "https://localhost:8080/"
        },
        "id": "h-ertA72zn60",
        "outputId": "dd6f3bb7-ebc8-4838-ecba-d0ef73fbf7f0"
      },
      "execution_count": 7,
      "outputs": [
        {
          "output_type": "stream",
          "name": "stdout",
          "text": [
            "313/313 [==============================] - 3s 8ms/step\n"
          ]
        }
      ]
    },
    {
      "cell_type": "code",
      "source": [
        "\n",
        "# Print some example predictions\n",
        "print(\"Example predictions:\")\n",
        "for i in range(10):\n",
        "    print(f\"Predicted class: {predicted_classes[i]}, True class: {y_test[i][0]}\")\n"
      ],
      "metadata": {
        "colab": {
          "base_uri": "https://localhost:8080/"
        },
        "id": "rQCAwT0FztyX",
        "outputId": "de918445-768b-4e10-e400-42d9a950c0b0"
      },
      "execution_count": 8,
      "outputs": [
        {
          "output_type": "stream",
          "name": "stdout",
          "text": [
            "Example predictions:\n",
            "Predicted class: 3, True class: 3\n",
            "Predicted class: 8, True class: 8\n",
            "Predicted class: 8, True class: 8\n",
            "Predicted class: 0, True class: 0\n",
            "Predicted class: 6, True class: 6\n",
            "Predicted class: 6, True class: 6\n",
            "Predicted class: 1, True class: 1\n",
            "Predicted class: 6, True class: 6\n",
            "Predicted class: 2, True class: 3\n",
            "Predicted class: 1, True class: 1\n"
          ]
        }
      ]
    },
    {
      "cell_type": "code",
      "source": [
        "import matplotlib.pyplot as plt\n",
        "\n",
        "# CIFAR-10 class names\n",
        "class_names = ['airplane', 'automobile', 'bird', 'cat', 'deer', 'dog', 'frog', 'horse', 'ship', 'truck']\n",
        "\n",
        "# Select an image from the test set\n",
        "image_index = 0\n",
        "test_image = x_test[image_index]\n",
        "true_label = y_test[image_index][0]\n",
        "\n",
        "# Reshape the image to its original dimensions (32x32x3)\n",
        "test_image = test_image.reshape((32, 32, 3))\n",
        "\n",
        "# Display the image\n",
        "plt.imshow(test_image)\n",
        "plt.title(f\"True Label: {class_names[true_label]}\")\n",
        "plt.axis('off')\n",
        "plt.show()\n",
        "\n",
        "# Reshape the image to match the input shape of the model (1x32x32x3)\n",
        "test_image = test_image[np.newaxis, ...]\n",
        "\n",
        "# Predict the probabilities for the image\n",
        "predicted_probabilities = model.predict(test_image)[0]\n",
        "\n",
        "# Get the true label name\n",
        "true_label_name = class_names[true_label]\n",
        "\n",
        "# Display the true label name\n",
        "print(f\"True Label: {true_label_name}\")\n",
        "\n",
        "# Calculate and display the percentage of all predictions\n",
        "total_probability = sum(predicted_probabilities)\n",
        "for i, prob in enumerate(predicted_probabilities):\n",
        "    class_name = class_names[i]\n",
        "    percentage = (prob / total_probability) * 100\n",
        "    print(f\"Predicted Percentage for {class_name}: {percentage:.2f}%\")\n",
        "\n",
        "# Get the predicted class\n",
        "predicted_class = np.argmax(predicted_probabilities)\n",
        "predicted_class_name = class_names[predicted_class]\n",
        "\n",
        "# Display the predicted class name\n",
        "print(f\"Predicted Class: {predicted_class_name}\")\n"
      ],
      "metadata": {
        "colab": {
          "base_uri": "https://localhost:8080/",
          "height": 654
        },
        "id": "WHggsC-Kzt0x",
        "outputId": "0c35f9c4-9887-484d-8cf2-df79d7ab203f"
      },
      "execution_count": 9,
      "outputs": [
        {
          "output_type": "display_data",
          "data": {
            "text/plain": [
              "<Figure size 640x480 with 1 Axes>"
            ],
            "image/png": "[encoded data removed]"
          },
          "metadata": {}
        },
        {
          "output_type": "stream",
          "name": "stdout",
          "text": [
            "1/1 [==============================] - 0s 486ms/step\n",
            "True Label: cat\n",
            "Predicted Percentage for airplane: 0.10%\n",
            "Predicted Percentage for automobile: 0.36%\n",
            "Predicted Percentage for bird: 0.19%\n",
            "Predicted Percentage for cat: 89.87%\n",
            "Predicted Percentage for deer: 0.07%\n",
            "Predicted Percentage for dog: 0.58%\n",
            "Predicted Percentage for frog: 8.34%\n",
            "Predicted Percentage for horse: 0.01%\n",
            "Predicted Percentage for ship: 0.31%\n",
            "Predicted Percentage for truck: 0.15%\n",
            "Predicted Class: cat\n"
          ]
        }
      ]
    }
  ]
}